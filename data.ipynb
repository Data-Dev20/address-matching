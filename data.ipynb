{
 "cells": [
  {
   "cell_type": "code",
   "execution_count": 6,
   "metadata": {},
   "outputs": [
    {
     "data": {
      "application/vnd.microsoft.datawrangler.viewer.v0+json": {
       "columns": [
        {
         "name": "index",
         "rawType": "int64",
         "type": "integer"
        },
        {
         "name": "Cnote No",
         "rawType": "object",
         "type": "string"
        },
        {
         "name": "Sold Id",
         "rawType": "object",
         "type": "string"
        },
        {
         "name": "B Code",
         "rawType": "object",
         "type": "string"
        },
        {
         "name": "Date",
         "rawType": "datetime64[ns]",
         "type": "datetime"
        },
        {
         "name": "CCode",
         "rawType": "object",
         "type": "string"
        },
        {
         "name": "F Mani",
         "rawType": "object",
         "type": "unknown"
        },
        {
         "name": "Date.1",
         "rawType": "datetime64[ns]",
         "type": "datetime"
        },
        {
         "name": "S Mani",
         "rawType": "object",
         "type": "unknown"
        },
        {
         "name": "Date.2",
         "rawType": "datetime64[ns]",
         "type": "datetime"
        },
        {
         "name": "receiver",
         "rawType": "object",
         "type": "string"
        },
        {
         "name": "Address",
         "rawType": "object",
         "type": "string"
        },
        {
         "name": "R_City",
         "rawType": "object",
         "type": "string"
        },
        {
         "name": "Pincode",
         "rawType": "int64",
         "type": "integer"
        },
        {
         "name": "Contact no",
         "rawType": "object",
         "type": "string"
        },
        {
         "name": "Weight",
         "rawType": "float64",
         "type": "float"
        },
        {
         "name": "PkStatus",
         "rawType": "object",
         "type": "string"
        },
        {
         "name": "D_date",
         "rawType": "datetime64[ns]",
         "type": "datetime"
        },
        {
         "name": "D Reason",
         "rawType": "object",
         "type": "string"
        },
        {
         "name": "D Time",
         "rawType": "object",
         "type": "string"
        },
        {
         "name": "Rec By",
         "rawType": "float64",
         "type": "float"
        },
        {
         "name": "Contact No",
         "rawType": "float64",
         "type": "float"
        },
        {
         "name": "Agent Name",
         "rawType": "object",
         "type": "string"
        },
        {
         "name": "DRS Date",
         "rawType": "datetime64[ns]",
         "type": "datetime"
        },
        {
         "name": "Inb Branch",
         "rawType": "object",
         "type": "string"
        },
        {
         "name": "Unnamed: 24",
         "rawType": "datetime64[ns]",
         "type": "datetime"
        },
        {
         "name": "Unnamed: 25",
         "rawType": "object",
         "type": "string"
        },
        {
         "name": "Unnamed: 26",
         "rawType": "object",
         "type": "unknown"
        }
       ],
       "conversionMethod": "pd.DataFrame",
       "ref": "e08b06b1-7882-4d14-bef8-e6effd839aec",
       "rows": [
        [
         "0",
         "HRP827266",
         "K31465",
         "ANDE",
         "2024-11-15 00:00:00",
         "HPRO",
         null,
         null,
         null,
         null,
         "KROMAKAY",
         "1  2 AMBER CHS JVPD 10TH RD VILE PARLE W",
         "MUMBAI",
         "400049",
         "10RL9821107890",
         "1.0",
         "Delivered",
         "2025-01-03 00:00:00",
         "Signature",
         "11:03:17",
         null,
         null,
         "YOGESH KARANJKAR",
         "2025-01-02 00:00:00",
         "N",
         null,
         "HDFC ROLL PROACTIVE MUMBAI",
         "Top Proitity"
        ],
        [
         "1",
         "FD1544463",
         "97015402",
         "KND",
         "2024-11-16 00:00:00",
         "FSO006",
         null,
         null,
         null,
         null,
         "HEMANI DRESSES",
         "SHOP NO 13 S V ROAD NATRAJ MARKET 1ST LANE NEAR KASTURBA TALKIES  400064 Mumbai Maharashtra ",
         "Mumbai",
         "400064",
         "1RL9619701206",
         "0.1",
         "Delivered",
         "2025-01-16 00:00:00",
         "Signature",
         "11:12:16",
         null,
         null,
         "YOGESH KARANJKAR",
         "2025-01-15 00:00:00",
         "N",
         null,
         "FISERV INDIA PVT LTD",
         null
        ],
        [
         "2",
         "FD1544473",
         "95326254",
         "KND",
         "2024-11-16 00:00:00",
         "FSO006",
         null,
         null,
         null,
         null,
         "JOBAN ",
         "19A NATRAJ MARKET S V ROAD MALAD WEST MUMBAI  400064 Mumbai Maharashtra ",
         "Mumbai",
         "400064",
         "1RL9819653153",
         "0.1",
         "Delivered",
         "2025-01-16 00:00:00",
         "Signature",
         "11:12:16",
         null,
         null,
         "YOGESH KARANJKAR",
         "2025-01-15 00:00:00",
         "N",
         null,
         "FISERV INDIA PVT LTD",
         null
        ],
        [
         "3",
         "FD1544490",
         "97013918",
         "KND",
         "2024-11-16 00:00:00",
         "FSO006",
         null,
         null,
         null,
         null,
         "NATRAJ FURNISHING",
         "SHOP NO 14 A NATRAJMARKET MALAD WESTMUMBAIMUMBAI  400064 Mumbai Maharashtra ",
         "Mumbai",
         "400064",
         "1RL9820684792",
         "0.1",
         "Delivered",
         "2025-01-16 00:00:00",
         "Signature",
         "11:12:16",
         null,
         null,
         "YOGESH KARANJKAR",
         "2025-01-15 00:00:00",
         "N",
         null,
         "FISERV INDIA PVT LTD",
         null
        ],
        [
         "4",
         "FD1544504",
         "95046181",
         "KND",
         "2024-11-16 00:00:00",
         "FSO006",
         null,
         null,
         null,
         null,
         "ROOP RANGOLI",
         "62 NATRAJ MARKET STATION ROAD MALAD WEST MUMBAI  400064 Mumbai Maharashtra ",
         "Mumbai",
         "400064",
         "3RL8082776230",
         "0.1",
         "RTO",
         "2025-01-16 00:00:00",
         "REFUSE",
         "11:12:16",
         null,
         null,
         "YOGESH KARANJKAR",
         "2025-01-15 00:00:00",
         "N",
         null,
         "FISERV INDIA PVT LTD",
         null
        ]
       ],
       "shape": {
        "columns": 27,
        "rows": 5
       }
      },
      "text/html": [
       "<div>\n",
       "<style scoped>\n",
       "    .dataframe tbody tr th:only-of-type {\n",
       "        vertical-align: middle;\n",
       "    }\n",
       "\n",
       "    .dataframe tbody tr th {\n",
       "        vertical-align: top;\n",
       "    }\n",
       "\n",
       "    .dataframe thead th {\n",
       "        text-align: right;\n",
       "    }\n",
       "</style>\n",
       "<table border=\"1\" class=\"dataframe\">\n",
       "  <thead>\n",
       "    <tr style=\"text-align: right;\">\n",
       "      <th></th>\n",
       "      <th>Cnote No</th>\n",
       "      <th>Sold Id</th>\n",
       "      <th>B Code</th>\n",
       "      <th>Date</th>\n",
       "      <th>CCode</th>\n",
       "      <th>F Mani</th>\n",
       "      <th>Date.1</th>\n",
       "      <th>S Mani</th>\n",
       "      <th>Date.2</th>\n",
       "      <th>receiver</th>\n",
       "      <th>...</th>\n",
       "      <th>D Reason</th>\n",
       "      <th>D Time</th>\n",
       "      <th>Rec By</th>\n",
       "      <th>Contact No</th>\n",
       "      <th>Agent Name</th>\n",
       "      <th>DRS Date</th>\n",
       "      <th>Inb Branch</th>\n",
       "      <th>Unnamed: 24</th>\n",
       "      <th>Unnamed: 25</th>\n",
       "      <th>Unnamed: 26</th>\n",
       "    </tr>\n",
       "  </thead>\n",
       "  <tbody>\n",
       "    <tr>\n",
       "      <th>0</th>\n",
       "      <td>HRP827266</td>\n",
       "      <td>K31465</td>\n",
       "      <td>ANDE</td>\n",
       "      <td>2024-11-15</td>\n",
       "      <td>HPRO</td>\n",
       "      <td>NaN</td>\n",
       "      <td>NaT</td>\n",
       "      <td>NaN</td>\n",
       "      <td>NaT</td>\n",
       "      <td>KROMAKAY</td>\n",
       "      <td>...</td>\n",
       "      <td>Signature</td>\n",
       "      <td>11:03:17</td>\n",
       "      <td>NaN</td>\n",
       "      <td>NaN</td>\n",
       "      <td>YOGESH KARANJKAR</td>\n",
       "      <td>2025-01-02</td>\n",
       "      <td>N</td>\n",
       "      <td>NaT</td>\n",
       "      <td>HDFC ROLL PROACTIVE MUMBAI</td>\n",
       "      <td>Top Proitity</td>\n",
       "    </tr>\n",
       "    <tr>\n",
       "      <th>1</th>\n",
       "      <td>FD1544463</td>\n",
       "      <td>97015402</td>\n",
       "      <td>KND</td>\n",
       "      <td>2024-11-16</td>\n",
       "      <td>FSO006</td>\n",
       "      <td>NaN</td>\n",
       "      <td>NaT</td>\n",
       "      <td>NaN</td>\n",
       "      <td>NaT</td>\n",
       "      <td>HEMANI DRESSES</td>\n",
       "      <td>...</td>\n",
       "      <td>Signature</td>\n",
       "      <td>11:12:16</td>\n",
       "      <td>NaN</td>\n",
       "      <td>NaN</td>\n",
       "      <td>YOGESH KARANJKAR</td>\n",
       "      <td>2025-01-15</td>\n",
       "      <td>N</td>\n",
       "      <td>NaT</td>\n",
       "      <td>FISERV INDIA PVT LTD</td>\n",
       "      <td>NaN</td>\n",
       "    </tr>\n",
       "    <tr>\n",
       "      <th>2</th>\n",
       "      <td>FD1544473</td>\n",
       "      <td>95326254</td>\n",
       "      <td>KND</td>\n",
       "      <td>2024-11-16</td>\n",
       "      <td>FSO006</td>\n",
       "      <td>NaN</td>\n",
       "      <td>NaT</td>\n",
       "      <td>NaN</td>\n",
       "      <td>NaT</td>\n",
       "      <td>JOBAN</td>\n",
       "      <td>...</td>\n",
       "      <td>Signature</td>\n",
       "      <td>11:12:16</td>\n",
       "      <td>NaN</td>\n",
       "      <td>NaN</td>\n",
       "      <td>YOGESH KARANJKAR</td>\n",
       "      <td>2025-01-15</td>\n",
       "      <td>N</td>\n",
       "      <td>NaT</td>\n",
       "      <td>FISERV INDIA PVT LTD</td>\n",
       "      <td>NaN</td>\n",
       "    </tr>\n",
       "    <tr>\n",
       "      <th>3</th>\n",
       "      <td>FD1544490</td>\n",
       "      <td>97013918</td>\n",
       "      <td>KND</td>\n",
       "      <td>2024-11-16</td>\n",
       "      <td>FSO006</td>\n",
       "      <td>NaN</td>\n",
       "      <td>NaT</td>\n",
       "      <td>NaN</td>\n",
       "      <td>NaT</td>\n",
       "      <td>NATRAJ FURNISHING</td>\n",
       "      <td>...</td>\n",
       "      <td>Signature</td>\n",
       "      <td>11:12:16</td>\n",
       "      <td>NaN</td>\n",
       "      <td>NaN</td>\n",
       "      <td>YOGESH KARANJKAR</td>\n",
       "      <td>2025-01-15</td>\n",
       "      <td>N</td>\n",
       "      <td>NaT</td>\n",
       "      <td>FISERV INDIA PVT LTD</td>\n",
       "      <td>NaN</td>\n",
       "    </tr>\n",
       "    <tr>\n",
       "      <th>4</th>\n",
       "      <td>FD1544504</td>\n",
       "      <td>95046181</td>\n",
       "      <td>KND</td>\n",
       "      <td>2024-11-16</td>\n",
       "      <td>FSO006</td>\n",
       "      <td>NaN</td>\n",
       "      <td>NaT</td>\n",
       "      <td>NaN</td>\n",
       "      <td>NaT</td>\n",
       "      <td>ROOP RANGOLI</td>\n",
       "      <td>...</td>\n",
       "      <td>REFUSE</td>\n",
       "      <td>11:12:16</td>\n",
       "      <td>NaN</td>\n",
       "      <td>NaN</td>\n",
       "      <td>YOGESH KARANJKAR</td>\n",
       "      <td>2025-01-15</td>\n",
       "      <td>N</td>\n",
       "      <td>NaT</td>\n",
       "      <td>FISERV INDIA PVT LTD</td>\n",
       "      <td>NaN</td>\n",
       "    </tr>\n",
       "  </tbody>\n",
       "</table>\n",
       "<p>5 rows × 27 columns</p>\n",
       "</div>"
      ],
      "text/plain": [
       "    Cnote No   Sold Id B Code       Date   CCode F Mani Date.1 S Mani Date.2  \\\n",
       "0  HRP827266    K31465   ANDE 2024-11-15    HPRO    NaN    NaT    NaN    NaT   \n",
       "1  FD1544463  97015402    KND 2024-11-16  FSO006    NaN    NaT    NaN    NaT   \n",
       "2  FD1544473  95326254    KND 2024-11-16  FSO006    NaN    NaT    NaN    NaT   \n",
       "3  FD1544490  97013918    KND 2024-11-16  FSO006    NaN    NaT    NaN    NaT   \n",
       "4  FD1544504  95046181    KND 2024-11-16  FSO006    NaN    NaT    NaN    NaT   \n",
       "\n",
       "            receiver  ...   D Reason    D Time  Rec By Contact No  \\\n",
       "0           KROMAKAY  ...  Signature  11:03:17     NaN        NaN   \n",
       "1     HEMANI DRESSES  ...  Signature  11:12:16     NaN        NaN   \n",
       "2             JOBAN   ...  Signature  11:12:16     NaN        NaN   \n",
       "3  NATRAJ FURNISHING  ...  Signature  11:12:16     NaN        NaN   \n",
       "4       ROOP RANGOLI  ...     REFUSE  11:12:16     NaN        NaN   \n",
       "\n",
       "         Agent Name   DRS Date Inb Branch Unnamed: 24  \\\n",
       "0  YOGESH KARANJKAR 2025-01-02          N         NaT   \n",
       "1  YOGESH KARANJKAR 2025-01-15          N         NaT   \n",
       "2  YOGESH KARANJKAR 2025-01-15          N         NaT   \n",
       "3  YOGESH KARANJKAR 2025-01-15          N         NaT   \n",
       "4  YOGESH KARANJKAR 2025-01-15          N         NaT   \n",
       "\n",
       "                  Unnamed: 25   Unnamed: 26  \n",
       "0  HDFC ROLL PROACTIVE MUMBAI  Top Proitity  \n",
       "1        FISERV INDIA PVT LTD           NaN  \n",
       "2        FISERV INDIA PVT LTD           NaN  \n",
       "3        FISERV INDIA PVT LTD           NaN  \n",
       "4        FISERV INDIA PVT LTD           NaN  \n",
       "\n",
       "[5 rows x 27 columns]"
      ]
     },
     "execution_count": 6,
     "metadata": {},
     "output_type": "execute_result"
    }
   ],
   "source": [
    "import numpy as np\n",
    "import pandas as pd\n",
    "\n",
    "# Load dataset\n",
    "df = pd.read_excel(\"D:/data for address/masterdata2025.xlsx\")\n",
    "df.head()"
   ]
  },
  {
   "cell_type": "code",
   "execution_count": 5,
   "metadata": {},
   "outputs": [
    {
     "name": "stdout",
     "output_type": "stream",
     "text": [
      "Collecting openpyxl\n",
      "  Using cached openpyxl-3.1.5-py2.py3-none-any.whl.metadata (2.5 kB)\n",
      "Collecting et-xmlfile (from openpyxl)\n",
      "  Using cached et_xmlfile-2.0.0-py3-none-any.whl.metadata (2.7 kB)\n",
      "Using cached openpyxl-3.1.5-py2.py3-none-any.whl (250 kB)\n",
      "Using cached et_xmlfile-2.0.0-py3-none-any.whl (18 kB)\n",
      "Installing collected packages: et-xmlfile, openpyxl\n",
      "Successfully installed et-xmlfile-2.0.0 openpyxl-3.1.5\n",
      "Note: you may need to restart the kernel to use updated packages.\n"
     ]
    },
    {
     "name": "stderr",
     "output_type": "stream",
     "text": [
      "\n",
      "[notice] A new release of pip is available: 24.3.1 -> 25.0.1\n",
      "[notice] To update, run: python.exe -m pip install --upgrade pip\n"
     ]
    }
   ],
   "source": [
    "pip install openpyxl"
   ]
  },
  {
   "cell_type": "code",
   "execution_count": 7,
   "metadata": {},
   "outputs": [
    {
     "name": "stdout",
     "output_type": "stream",
     "text": [
      "<class 'pandas.core.frame.DataFrame'>\n",
      "RangeIndex: 1754 entries, 0 to 1753\n",
      "Data columns (total 27 columns):\n",
      " #   Column       Non-Null Count  Dtype         \n",
      "---  ------       --------------  -----         \n",
      " 0   Cnote No     1754 non-null   object        \n",
      " 1   Sold Id      1754 non-null   object        \n",
      " 2   B Code       1754 non-null   object        \n",
      " 3   Date         1754 non-null   datetime64[ns]\n",
      " 4   CCode        1754 non-null   object        \n",
      " 5   F Mani       1 non-null      object        \n",
      " 6   Date.1       1 non-null      datetime64[ns]\n",
      " 7   S Mani       1 non-null      object        \n",
      " 8   Date.2       1 non-null      datetime64[ns]\n",
      " 9   receiver     1754 non-null   object        \n",
      " 10  Address      1754 non-null   object        \n",
      " 11  R_City       1110 non-null   object        \n",
      " 12  Pincode      1754 non-null   int64         \n",
      " 13  Contact no   1754 non-null   object        \n",
      " 14  Weight       1754 non-null   float64       \n",
      " 15  PkStatus     1754 non-null   object        \n",
      " 16  D_date       1754 non-null   datetime64[ns]\n",
      " 17  D Reason     1614 non-null   object        \n",
      " 18  D Time       1754 non-null   object        \n",
      " 19  Rec By       0 non-null      float64       \n",
      " 20  Contact No   0 non-null      float64       \n",
      " 21  Agent Name   1754 non-null   object        \n",
      " 22  DRS Date     1754 non-null   datetime64[ns]\n",
      " 23  Inb Branch   1754 non-null   object        \n",
      " 24  Unnamed: 24  1 non-null      datetime64[ns]\n",
      " 25  Unnamed: 25  1754 non-null   object        \n",
      " 26  Unnamed: 26  118 non-null    object        \n",
      "dtypes: datetime64[ns](6), float64(3), int64(1), object(17)\n",
      "memory usage: 370.1+ KB\n"
     ]
    }
   ],
   "source": [
    "df.info()"
   ]
  },
  {
   "cell_type": "code",
   "execution_count": 11,
   "metadata": {},
   "outputs": [
    {
     "data": {
      "text/plain": [
       "Index(['Cnote No', 'Sold Id', 'B Code', 'Date', 'CCode', 'F Mani', 'Date.1',\n",
       "       'S Mani', 'Date.2', 'receiver', 'Address', 'R_City', 'Pincode',\n",
       "       'Contact no', 'Weight', 'PkStatus', 'D_date', 'D Reason', 'D Time',\n",
       "       'Rec By', 'Contact No', 'Agent Name', 'DRS Date', 'Inb Branch',\n",
       "       'Unnamed: 24', 'Unnamed: 25', 'Unnamed: 26'],\n",
       "      dtype='object')"
      ]
     },
     "execution_count": 11,
     "metadata": {},
     "output_type": "execute_result"
    }
   ],
   "source": [
    "df.columns"
   ]
  },
  {
   "cell_type": "code",
   "execution_count": 12,
   "metadata": {},
   "outputs": [
    {
     "data": {
      "text/plain": [
       "Cnote No          0\n",
       "Sold Id           0\n",
       "B Code            0\n",
       "Date              0\n",
       "CCode             0\n",
       "F Mani         1753\n",
       "Date.1         1753\n",
       "S Mani         1753\n",
       "Date.2         1753\n",
       "receiver          0\n",
       "Address           0\n",
       "R_City          644\n",
       "Pincode           0\n",
       "Contact no        0\n",
       "Weight            0\n",
       "PkStatus          0\n",
       "D_date            0\n",
       "D Reason        140\n",
       "D Time            0\n",
       "Rec By         1754\n",
       "Contact No     1754\n",
       "Agent Name        0\n",
       "DRS Date          0\n",
       "Inb Branch        0\n",
       "Unnamed: 24    1753\n",
       "Unnamed: 25       0\n",
       "Unnamed: 26    1636\n",
       "dtype: int64"
      ]
     },
     "execution_count": 12,
     "metadata": {},
     "output_type": "execute_result"
    }
   ],
   "source": [
    "df.isnull().sum()"
   ]
  },
  {
   "cell_type": "code",
   "execution_count": 15,
   "metadata": {},
   "outputs": [
    {
     "data": {
      "application/vnd.microsoft.datawrangler.viewer.v0+json": {
       "columns": [
        {
         "name": "index",
         "rawType": "object",
         "type": "string"
        },
        {
         "name": "Date",
         "rawType": "object",
         "type": "unknown"
        },
        {
         "name": "Date.1",
         "rawType": "object",
         "type": "unknown"
        },
        {
         "name": "Date.2",
         "rawType": "object",
         "type": "unknown"
        },
        {
         "name": "Pincode",
         "rawType": "float64",
         "type": "float"
        },
        {
         "name": "Weight",
         "rawType": "float64",
         "type": "float"
        },
        {
         "name": "D_date",
         "rawType": "object",
         "type": "unknown"
        },
        {
         "name": "Rec By",
         "rawType": "float64",
         "type": "float"
        },
        {
         "name": "Contact No",
         "rawType": "float64",
         "type": "float"
        },
        {
         "name": "DRS Date",
         "rawType": "object",
         "type": "unknown"
        },
        {
         "name": "Unnamed: 24",
         "rawType": "object",
         "type": "unknown"
        }
       ],
       "conversionMethod": "pd.DataFrame",
       "ref": "dff7bda3-2f8c-453c-934e-04cf60bf6ec4",
       "rows": [
        [
         "count",
         "1754",
         "1",
         "1",
         "1754.0",
         "1754.0",
         "1754",
         "0.0",
         "0.0",
         "1754",
         "1"
        ],
        [
         "mean",
         "2025-01-16 21:10:03.420752384",
         "2025-01-31 00:00:00",
         "2025-01-31 00:00:00",
         "400071.96636259975",
         "0.10051311288483467",
         "2025-01-27 16:34:12.451539200",
         null,
         null,
         "2025-01-26 07:56:10.125427968",
         "2025-01-31 00:00:00"
        ],
        [
         "min",
         "2024-11-15 00:00:00",
         "2025-01-31 00:00:00",
         "2025-01-31 00:00:00",
         "400029.0",
         "0.1",
         "2025-01-01 00:00:00",
         null,
         null,
         "2024-12-27 00:00:00",
         "2025-01-31 00:00:00"
        ],
        [
         "25%",
         "2024-12-31 00:00:00",
         "2025-01-31 00:00:00",
         "2025-01-31 00:00:00",
         "400053.0",
         "0.1",
         "2025-01-09 00:00:00",
         null,
         null,
         "2025-01-08 00:00:00",
         "2025-01-31 00:00:00"
        ],
        [
         "50%",
         "2025-01-16 00:00:00",
         "2025-01-31 00:00:00",
         "2025-01-31 00:00:00",
         "400057.0",
         "0.1",
         "2025-01-29 00:00:00",
         null,
         null,
         "2025-01-27 00:00:00",
         "2025-01-31 00:00:00"
        ],
        [
         "75%",
         "2025-01-31 00:00:00",
         "2025-01-31 00:00:00",
         "2025-01-31 00:00:00",
         "400058.0",
         "0.1",
         "2025-02-11 00:00:00",
         null,
         null,
         "2025-02-07 00:00:00",
         "2025-01-31 00:00:00"
        ],
        [
         "max",
         "2025-02-19 00:00:00",
         "2025-01-31 00:00:00",
         "2025-01-31 00:00:00",
         "421201.0",
         "1.0",
         "2025-02-27 00:00:00",
         null,
         null,
         "2025-02-27 00:00:00",
         "2025-01-31 00:00:00"
        ],
        [
         "std",
         null,
         null,
         null,
         "505.7180009936687",
         "0.021489569478032766",
         null,
         null,
         null,
         null,
         null
        ]
       ],
       "shape": {
        "columns": 10,
        "rows": 8
       }
      },
      "text/html": [
       "<div>\n",
       "<style scoped>\n",
       "    .dataframe tbody tr th:only-of-type {\n",
       "        vertical-align: middle;\n",
       "    }\n",
       "\n",
       "    .dataframe tbody tr th {\n",
       "        vertical-align: top;\n",
       "    }\n",
       "\n",
       "    .dataframe thead th {\n",
       "        text-align: right;\n",
       "    }\n",
       "</style>\n",
       "<table border=\"1\" class=\"dataframe\">\n",
       "  <thead>\n",
       "    <tr style=\"text-align: right;\">\n",
       "      <th></th>\n",
       "      <th>Date</th>\n",
       "      <th>Date.1</th>\n",
       "      <th>Date.2</th>\n",
       "      <th>Pincode</th>\n",
       "      <th>Weight</th>\n",
       "      <th>D_date</th>\n",
       "      <th>Rec By</th>\n",
       "      <th>Contact No</th>\n",
       "      <th>DRS Date</th>\n",
       "      <th>Unnamed: 24</th>\n",
       "    </tr>\n",
       "  </thead>\n",
       "  <tbody>\n",
       "    <tr>\n",
       "      <th>count</th>\n",
       "      <td>1754</td>\n",
       "      <td>1</td>\n",
       "      <td>1</td>\n",
       "      <td>1754.000000</td>\n",
       "      <td>1754.000000</td>\n",
       "      <td>1754</td>\n",
       "      <td>0.0</td>\n",
       "      <td>0.0</td>\n",
       "      <td>1754</td>\n",
       "      <td>1</td>\n",
       "    </tr>\n",
       "    <tr>\n",
       "      <th>mean</th>\n",
       "      <td>2025-01-16 21:10:03.420752384</td>\n",
       "      <td>2025-01-31 00:00:00</td>\n",
       "      <td>2025-01-31 00:00:00</td>\n",
       "      <td>400071.966363</td>\n",
       "      <td>0.100513</td>\n",
       "      <td>2025-01-27 16:34:12.451539200</td>\n",
       "      <td>NaN</td>\n",
       "      <td>NaN</td>\n",
       "      <td>2025-01-26 07:56:10.125427968</td>\n",
       "      <td>2025-01-31 00:00:00</td>\n",
       "    </tr>\n",
       "    <tr>\n",
       "      <th>min</th>\n",
       "      <td>2024-11-15 00:00:00</td>\n",
       "      <td>2025-01-31 00:00:00</td>\n",
       "      <td>2025-01-31 00:00:00</td>\n",
       "      <td>400029.000000</td>\n",
       "      <td>0.100000</td>\n",
       "      <td>2025-01-01 00:00:00</td>\n",
       "      <td>NaN</td>\n",
       "      <td>NaN</td>\n",
       "      <td>2024-12-27 00:00:00</td>\n",
       "      <td>2025-01-31 00:00:00</td>\n",
       "    </tr>\n",
       "    <tr>\n",
       "      <th>25%</th>\n",
       "      <td>2024-12-31 00:00:00</td>\n",
       "      <td>2025-01-31 00:00:00</td>\n",
       "      <td>2025-01-31 00:00:00</td>\n",
       "      <td>400053.000000</td>\n",
       "      <td>0.100000</td>\n",
       "      <td>2025-01-09 00:00:00</td>\n",
       "      <td>NaN</td>\n",
       "      <td>NaN</td>\n",
       "      <td>2025-01-08 00:00:00</td>\n",
       "      <td>2025-01-31 00:00:00</td>\n",
       "    </tr>\n",
       "    <tr>\n",
       "      <th>50%</th>\n",
       "      <td>2025-01-16 00:00:00</td>\n",
       "      <td>2025-01-31 00:00:00</td>\n",
       "      <td>2025-01-31 00:00:00</td>\n",
       "      <td>400057.000000</td>\n",
       "      <td>0.100000</td>\n",
       "      <td>2025-01-29 00:00:00</td>\n",
       "      <td>NaN</td>\n",
       "      <td>NaN</td>\n",
       "      <td>2025-01-27 00:00:00</td>\n",
       "      <td>2025-01-31 00:00:00</td>\n",
       "    </tr>\n",
       "    <tr>\n",
       "      <th>75%</th>\n",
       "      <td>2025-01-31 00:00:00</td>\n",
       "      <td>2025-01-31 00:00:00</td>\n",
       "      <td>2025-01-31 00:00:00</td>\n",
       "      <td>400058.000000</td>\n",
       "      <td>0.100000</td>\n",
       "      <td>2025-02-11 00:00:00</td>\n",
       "      <td>NaN</td>\n",
       "      <td>NaN</td>\n",
       "      <td>2025-02-07 00:00:00</td>\n",
       "      <td>2025-01-31 00:00:00</td>\n",
       "    </tr>\n",
       "    <tr>\n",
       "      <th>max</th>\n",
       "      <td>2025-02-19 00:00:00</td>\n",
       "      <td>2025-01-31 00:00:00</td>\n",
       "      <td>2025-01-31 00:00:00</td>\n",
       "      <td>421201.000000</td>\n",
       "      <td>1.000000</td>\n",
       "      <td>2025-02-27 00:00:00</td>\n",
       "      <td>NaN</td>\n",
       "      <td>NaN</td>\n",
       "      <td>2025-02-27 00:00:00</td>\n",
       "      <td>2025-01-31 00:00:00</td>\n",
       "    </tr>\n",
       "    <tr>\n",
       "      <th>std</th>\n",
       "      <td>NaN</td>\n",
       "      <td>NaN</td>\n",
       "      <td>NaN</td>\n",
       "      <td>505.718001</td>\n",
       "      <td>0.021490</td>\n",
       "      <td>NaN</td>\n",
       "      <td>NaN</td>\n",
       "      <td>NaN</td>\n",
       "      <td>NaN</td>\n",
       "      <td>NaN</td>\n",
       "    </tr>\n",
       "  </tbody>\n",
       "</table>\n",
       "</div>"
      ],
      "text/plain": [
       "                                Date               Date.1  \\\n",
       "count                           1754                    1   \n",
       "mean   2025-01-16 21:10:03.420752384  2025-01-31 00:00:00   \n",
       "min              2024-11-15 00:00:00  2025-01-31 00:00:00   \n",
       "25%              2024-12-31 00:00:00  2025-01-31 00:00:00   \n",
       "50%              2025-01-16 00:00:00  2025-01-31 00:00:00   \n",
       "75%              2025-01-31 00:00:00  2025-01-31 00:00:00   \n",
       "max              2025-02-19 00:00:00  2025-01-31 00:00:00   \n",
       "std                              NaN                  NaN   \n",
       "\n",
       "                    Date.2        Pincode       Weight  \\\n",
       "count                    1    1754.000000  1754.000000   \n",
       "mean   2025-01-31 00:00:00  400071.966363     0.100513   \n",
       "min    2025-01-31 00:00:00  400029.000000     0.100000   \n",
       "25%    2025-01-31 00:00:00  400053.000000     0.100000   \n",
       "50%    2025-01-31 00:00:00  400057.000000     0.100000   \n",
       "75%    2025-01-31 00:00:00  400058.000000     0.100000   \n",
       "max    2025-01-31 00:00:00  421201.000000     1.000000   \n",
       "std                    NaN     505.718001     0.021490   \n",
       "\n",
       "                              D_date  Rec By  Contact No  \\\n",
       "count                           1754     0.0         0.0   \n",
       "mean   2025-01-27 16:34:12.451539200     NaN         NaN   \n",
       "min              2025-01-01 00:00:00     NaN         NaN   \n",
       "25%              2025-01-09 00:00:00     NaN         NaN   \n",
       "50%              2025-01-29 00:00:00     NaN         NaN   \n",
       "75%              2025-02-11 00:00:00     NaN         NaN   \n",
       "max              2025-02-27 00:00:00     NaN         NaN   \n",
       "std                              NaN     NaN         NaN   \n",
       "\n",
       "                            DRS Date          Unnamed: 24  \n",
       "count                           1754                    1  \n",
       "mean   2025-01-26 07:56:10.125427968  2025-01-31 00:00:00  \n",
       "min              2024-12-27 00:00:00  2025-01-31 00:00:00  \n",
       "25%              2025-01-08 00:00:00  2025-01-31 00:00:00  \n",
       "50%              2025-01-27 00:00:00  2025-01-31 00:00:00  \n",
       "75%              2025-02-07 00:00:00  2025-01-31 00:00:00  \n",
       "max              2025-02-27 00:00:00  2025-01-31 00:00:00  \n",
       "std                              NaN                  NaN  "
      ]
     },
     "execution_count": 15,
     "metadata": {},
     "output_type": "execute_result"
    }
   ],
   "source": [
    "df.describe()"
   ]
  },
  {
   "cell_type": "code",
   "execution_count": 17,
   "metadata": {},
   "outputs": [
    {
     "data": {
      "text/plain": [
       "np.int64(0)"
      ]
     },
     "execution_count": 17,
     "metadata": {},
     "output_type": "execute_result"
    }
   ],
   "source": [
    "df.duplicated().sum()"
   ]
  },
  {
   "cell_type": "code",
   "execution_count": null,
   "metadata": {},
   "outputs": [],
   "source": []
  }
 ],
 "metadata": {
  "kernelspec": {
   "display_name": "Python 3",
   "language": "python",
   "name": "python3"
  },
  "language_info": {
   "codemirror_mode": {
    "name": "ipython",
    "version": 3
   },
   "file_extension": ".py",
   "mimetype": "text/x-python",
   "name": "python",
   "nbconvert_exporter": "python",
   "pygments_lexer": "ipython3",
   "version": "3.13.2"
  }
 },
 "nbformat": 4,
 "nbformat_minor": 2
}
