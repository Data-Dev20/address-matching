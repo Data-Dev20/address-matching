{
 "cells": [
  {
   "cell_type": "code",
   "execution_count": 3,
   "id": "d106b96b",
   "metadata": {},
   "outputs": [
    {
     "ename": "ModuleNotFoundError",
     "evalue": "No module named 'requests'",
     "output_type": "error",
     "traceback": [
      "\u001b[31m---------------------------------------------------------------------------\u001b[39m",
      "\u001b[31mModuleNotFoundError\u001b[39m                       Traceback (most recent call last)",
      "\u001b[36mCell\u001b[39m\u001b[36m \u001b[39m\u001b[32mIn[3]\u001b[39m\u001b[32m, line 2\u001b[39m\n\u001b[32m      1\u001b[39m \u001b[38;5;28;01mimport\u001b[39;00m\u001b[38;5;250m \u001b[39m\u001b[34;01mpandas\u001b[39;00m\u001b[38;5;250m \u001b[39m\u001b[38;5;28;01mas\u001b[39;00m\u001b[38;5;250m \u001b[39m\u001b[34;01mpd\u001b[39;00m\n\u001b[32m----> \u001b[39m\u001b[32m2\u001b[39m \u001b[38;5;28;01mimport\u001b[39;00m\u001b[38;5;250m \u001b[39m\u001b[34;01mrequests\u001b[39;00m\n\u001b[32m      4\u001b[39m \u001b[38;5;66;03m# Load your Excel file\u001b[39;00m\n\u001b[32m      5\u001b[39m df = pd.read_excel(\u001b[33m\"\u001b[39m\u001b[33mD:/AAAAAAAA/pincode.xlsx\u001b[39m\u001b[33m\"\u001b[39m)\n",
      "\u001b[31mModuleNotFoundError\u001b[39m: No module named 'requests'"
     ]
    }
   ],
   "source": [
    "import pandas as pd\n",
    "import requests\n",
    "\n",
    "# Load your Excel file\n",
    "df = pd.read_excel(\"D:/AAAAAAAA/pincode.xlsx\")\n",
    "\n",
    "# Example format of the file:\n",
    "# | Pincode | Locality | Landmark | Road | Colony | Marg |\n",
    "# Make sure to rename columns if needed to match your structure\n"
   ]
  },
  {
   "cell_type": "markdown",
   "id": "57406b96",
   "metadata": {},
   "source": [
    "# Geocode Using Geoapify"
   ]
  },
  {
   "cell_type": "code",
   "execution_count": null,
   "id": "e2e06be2",
   "metadata": {},
   "outputs": [],
   "source": [
    "API_KEY = \"YOUR_GEOAPIFY_API_KEY\"  # Replace with your Geoapify API key\n",
    "\n",
    "def geocode_address(address):\n",
    "    url = \"https://api.geoapify.com/v1/geocode/search\"\n",
    "    params = {\n",
    "        \"text\": address,\n",
    "        \"apiKey\": API_KEY,\n",
    "        \"format\": \"json\"\n",
    "    }\n",
    "    response = requests.get(url, params=params)\n",
    "    data = response.json()\n",
    "    if data.get(\"features\"):\n",
    "        coords = data[\"features\"][0][\"geometry\"][\"coordinates\"]\n",
    "        return coords[1], coords[0]  # (latitude, longitude)\n",
    "    return None, None\n"
   ]
  },
  {
   "cell_type": "markdown",
   "id": "427464b8",
   "metadata": {},
   "source": [
    "#  Build Full Address and Get Coordinates"
   ]
  },
  {
   "cell_type": "code",
   "execution_count": null,
   "id": "f56749c2",
   "metadata": {},
   "outputs": [],
   "source": [
    "def build_address(row):\n",
    "    parts = [str(row.get(col, \"\")) for col in ['Locality', 'Landmark', 'Road', 'Colony', 'Marg', 'Pincode']]\n",
    "    return \", \".join([part for part in parts if part])\n",
    "\n",
    "df[\"Full_Address\"] = df.apply(build_address, axis=1)\n",
    "df[[\"Latitude\", \"Longitude\"]] = df[\"Full_Address\"].apply(lambda addr: pd.Series(geocode_address(addr)))\n"
   ]
  },
  {
   "cell_type": "markdown",
   "id": "1269c55e",
   "metadata": {},
   "source": [
    "#  Route Mapping Between Two Points"
   ]
  },
  {
   "cell_type": "code",
   "execution_count": null,
   "id": "6ff95ddf",
   "metadata": {},
   "outputs": [],
   "source": [
    "def get_route(lat1, lon1, lat2, lon2):\n",
    "    url = \"https://api.geoapify.com/v1/routing\"\n",
    "    params = {\n",
    "        \"waypoints\": f\"{lat1},{lon1}|{lat2},{lon2}\",\n",
    "        \"mode\": \"drive\",\n",
    "        \"apiKey\": API_KEY\n",
    "    }\n",
    "    response = requests.get(url, params=params)\n",
    "    data = response.json()\n",
    "    if \"features\" in data:\n",
    "        route = data[\"features\"][0][\"properties\"]\n",
    "        return route[\"distance\"], route[\"time\"]\n",
    "    return None, None\n"
   ]
  },
  {
   "cell_type": "markdown",
   "id": "d76b0a5f",
   "metadata": {},
   "source": [
    "#  Example: Route from First to Second Row"
   ]
  },
  {
   "cell_type": "code",
   "execution_count": null,
   "id": "aae34309",
   "metadata": {},
   "outputs": [],
   "source": [
    "lat1, lon1 = df.iloc[0][\"Latitude\"], df.iloc[0][\"Longitude\"]\n",
    "lat2, lon2 = df.iloc[1][\"Latitude\"], df.iloc[1][\"Longitude\"]\n",
    "\n",
    "distance, time = get_route(lat1, lon1, lat2, lon2)\n",
    "print(f\"Distance: {distance/1000:.2f} km, Time: {time/60:.2f} mins\")\n"
   ]
  }
 ],
 "metadata": {
  "kernelspec": {
   "display_name": "Python 3",
   "language": "python",
   "name": "python3"
  },
  "language_info": {
   "codemirror_mode": {
    "name": "ipython",
    "version": 3
   },
   "file_extension": ".py",
   "mimetype": "text/x-python",
   "name": "python",
   "nbconvert_exporter": "python",
   "pygments_lexer": "ipython3",
   "version": "3.13.3"
  }
 },
 "nbformat": 4,
 "nbformat_minor": 5
}
